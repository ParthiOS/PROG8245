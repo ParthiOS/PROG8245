{
 "cells": [
  {
   "cell_type": "markdown",
   "id": "f3de030b",
   "metadata": {},
   "source": [
    "## Step 0 - Import Modules"
   ]
  },
  {
   "cell_type": "code",
   "execution_count": 44,
   "id": "e65cdc20",
   "metadata": {},
   "outputs": [],
   "source": [
    "import json\n",
    "import pandas as pd\n",
    "import os\n",
    "from typing import List"
   ]
  },
  {
   "cell_type": "markdown",
   "id": "470799cd",
   "metadata": {},
   "source": [
    "## Step 1 - Hello, Data!"
   ]
  },
  {
   "cell_type": "code",
   "execution_count": 45,
   "id": "3c26a3a2",
   "metadata": {},
   "outputs": [
    {
     "data": {
      "application/vnd.microsoft.datawrangler.viewer.v0+json": {
       "columns": [
        {
         "name": "index",
         "rawType": "int64",
         "type": "integer"
        },
        {
         "name": "date",
         "rawType": "object",
         "type": "string"
        },
        {
         "name": "customer_id",
         "rawType": "object",
         "type": "string"
        },
        {
         "name": "product",
         "rawType": "object",
         "type": "string"
        },
        {
         "name": "price",
         "rawType": "float64",
         "type": "float"
        },
        {
         "name": "quantity",
         "rawType": "int64",
         "type": "integer"
        },
        {
         "name": "coupon_code",
         "rawType": "object",
         "type": "unknown"
        },
        {
         "name": "shipping_city",
         "rawType": "object",
         "type": "string"
        },
        {
         "name": "country",
         "rawType": "object",
         "type": "string"
        },
        {
         "name": "total_price",
         "rawType": "float64",
         "type": "float"
        }
       ],
       "ref": "26f3d147-de34-4a3b-a3ab-bc91fc6ffc28",
       "rows": [
        [
         "0",
         "2024-10-19",
         "8be304df-4697-4f40-9f57-5d849fe3947c",
         "Smartphone",
         "699.99",
         "3",
         null,
         "Calgary",
         "Canada",
         "2099.97"
        ],
        [
         "1",
         "2025-01-04",
         "124f4ee9-b31b-4c15-a22c-21fd2a263098",
         "Monitor",
         "249.99",
         "2",
         "20OFF",
         "Ottawa",
         "Canada",
         "499.98"
        ],
        [
         "2",
         "2024-08-18",
         "fcaac143-fab7-494a-b400-cf3e2f6d6d07",
         "Laptop",
         "999.99",
         "6",
         "NO_CODE",
         "Leeds",
         "UK",
         "5999.94"
        ]
       ],
       "shape": {
        "columns": 9,
        "rows": 3
       }
      },
      "text/html": [
       "<div>\n",
       "<style scoped>\n",
       "    .dataframe tbody tr th:only-of-type {\n",
       "        vertical-align: middle;\n",
       "    }\n",
       "\n",
       "    .dataframe tbody tr th {\n",
       "        vertical-align: top;\n",
       "    }\n",
       "\n",
       "    .dataframe thead th {\n",
       "        text-align: right;\n",
       "    }\n",
       "</style>\n",
       "<table border=\"1\" class=\"dataframe\">\n",
       "  <thead>\n",
       "    <tr style=\"text-align: right;\">\n",
       "      <th></th>\n",
       "      <th>date</th>\n",
       "      <th>customer_id</th>\n",
       "      <th>product</th>\n",
       "      <th>price</th>\n",
       "      <th>quantity</th>\n",
       "      <th>coupon_code</th>\n",
       "      <th>shipping_city</th>\n",
       "      <th>country</th>\n",
       "      <th>total_price</th>\n",
       "    </tr>\n",
       "  </thead>\n",
       "  <tbody>\n",
       "    <tr>\n",
       "      <th>0</th>\n",
       "      <td>2024-10-19</td>\n",
       "      <td>8be304df-4697-4f40-9f57-5d849fe3947c</td>\n",
       "      <td>Smartphone</td>\n",
       "      <td>699.99</td>\n",
       "      <td>3</td>\n",
       "      <td>NaN</td>\n",
       "      <td>Calgary</td>\n",
       "      <td>Canada</td>\n",
       "      <td>2099.97</td>\n",
       "    </tr>\n",
       "    <tr>\n",
       "      <th>1</th>\n",
       "      <td>2025-01-04</td>\n",
       "      <td>124f4ee9-b31b-4c15-a22c-21fd2a263098</td>\n",
       "      <td>Monitor</td>\n",
       "      <td>249.99</td>\n",
       "      <td>2</td>\n",
       "      <td>20OFF</td>\n",
       "      <td>Ottawa</td>\n",
       "      <td>Canada</td>\n",
       "      <td>499.98</td>\n",
       "    </tr>\n",
       "    <tr>\n",
       "      <th>2</th>\n",
       "      <td>2024-08-18</td>\n",
       "      <td>fcaac143-fab7-494a-b400-cf3e2f6d6d07</td>\n",
       "      <td>Laptop</td>\n",
       "      <td>999.99</td>\n",
       "      <td>6</td>\n",
       "      <td>NO_CODE</td>\n",
       "      <td>Leeds</td>\n",
       "      <td>UK</td>\n",
       "      <td>5999.94</td>\n",
       "    </tr>\n",
       "  </tbody>\n",
       "</table>\n",
       "</div>"
      ],
      "text/plain": [
       "         date                           customer_id     product   price  \\\n",
       "0  2024-10-19  8be304df-4697-4f40-9f57-5d849fe3947c  Smartphone  699.99   \n",
       "1  2025-01-04  124f4ee9-b31b-4c15-a22c-21fd2a263098     Monitor  249.99   \n",
       "2  2024-08-18  fcaac143-fab7-494a-b400-cf3e2f6d6d07      Laptop  999.99   \n",
       "\n",
       "   quantity coupon_code shipping_city country  total_price  \n",
       "0         3         NaN       Calgary  Canada      2099.97  \n",
       "1         2       20OFF        Ottawa  Canada       499.98  \n",
       "2         6     NO_CODE         Leeds      UK      5999.94  "
      ]
     },
     "execution_count": 45,
     "metadata": {},
     "output_type": "execute_result"
    }
   ],
   "source": [
    "# Step 1 – Hello, Data!\n",
    "\n",
    "# Load the raw CSV (replace with your actual file path)\n",
    "df = pd.read_csv(\"data/synthetic_ecommerce_data.csv\")\n",
    "\n",
    "# Display the first 3 rows\n",
    "df.head(3)"
   ]
  },
  {
   "cell_type": "markdown",
   "id": "c7273cd7",
   "metadata": {},
   "source": [
    "## Step 2 – Pick the Right Container\n",
    "\n",
    "For transaction records, a class is most appropriate because it allows us to encapsulate data and behavior (e.g., cleaning, calculating total revenue/profit) in a single unit. Namedtuples are immutable and lack methods; dictionaries are flexible but offer no structure or validation."
   ]
  },
  {
   "cell_type": "code",
   "execution_count": 46,
   "id": "538e77b1",
   "metadata": {},
   "outputs": [],
   "source": [
    "# Step 3 – Transaction Class and OO Data Structure\n",
    "class Transaction:\n",
    "    def __init__(self, date, customer_id, product, price, quantity,\n",
    "                 coupon_code, shipping_city, country, total_price):\n",
    "        self.date = date\n",
    "        self.customer_id = customer_id\n",
    "        self.product = product\n",
    "\n",
    "        self.price = float(price)\n",
    "        self.quantity = int(quantity)\n",
    "        self.coupon_code = coupon_code or \"NO_CODE\"\n",
    "        self.shipping_city = shipping_city\n",
    "\n",
    "        self.country = country\n",
    "        self.total_price = float(total_price)\n",
    "\n",
    "    def total(self):\n",
    "        return self.price * self.quantity\n",
    "\n",
    "    def clean(self):\n",
    "        if isinstance(self.product, str):\n",
    "            self.product = self.product.strip().title()\n",
    "\n",
    "        if isinstance(self.shipping_city, str):\n",
    "            self.shipping_city = self.shipping_city.strip().title()\n",
    "\n",
    "        if isinstance(self.country, str):\n",
    "            self.country = self.country.strip().title()\n",
    "            \n",
    "        if not self.coupon_code:\n",
    "            self.coupon_code = \"NO_CODE\"\n",
    "\n"
   ]
  },
  {
   "cell_type": "markdown",
   "id": "fec3c018",
   "metadata": {},
   "source": [
    "## Step 4 - Bulk Loader"
   ]
  },
  {
   "cell_type": "code",
   "execution_count": 47,
   "id": "4097a201",
   "metadata": {},
   "outputs": [],
   "source": [
    "def load_transactions(df: pd.DataFrame) -> List[Transaction]:\n",
    "    transactions = []\n",
    "    for i in range(len(df)):\n",
    "        row = df.iloc[i]\n",
    "        transaction = Transaction(\n",
    "            row[\"date\"],\n",
    "            row[\"customer_id\"],\n",
    "            row[\"product\"],\n",
    "            row[\"price\"],\n",
    "            row[\"quantity\"],\n",
    "            row[\"coupon_code\"],\n",
    "            row[\"shipping_city\"],\n",
    "            row[\"country\"],\n",
    "            row[\"total_price\"]\n",
    "        )\n",
    "        transactions.append(transaction)\n",
    "    return transactions\n",
    "\n",
    "# Load all transactions\n",
    "transactions = load_transactions(df)"
   ]
  },
  {
   "cell_type": "markdown",
   "id": "7436baf9",
   "metadata": {},
   "source": [
    "## Step 5 - Quick Profiling"
   ]
  },
  {
   "cell_type": "code",
   "execution_count": 48,
   "id": "84ceba77",
   "metadata": {},
   "outputs": [
    {
     "name": "stdout",
     "output_type": "stream",
     "text": [
      "Min price: 89.99\n",
      "Mean price: 442.83\n",
      "Max price: 999.99\n",
      "Min quantity: 1\n",
      "Max quantity: 10\n",
      "Total revenue (calculated): 1375038.97\n",
      "Unique cities: 15\n",
      "Unique countries: 3\n"
     ]
    }
   ],
   "source": [
    "# Step 5 – Quick Profiling\n",
    "\n",
    "# Basic stats on price and quantity\n",
    "prices = [t.price for t in transactions]\n",
    "quantities = [t.quantity for t in transactions]\n",
    "total_prices = [t.total_price for t in transactions]\n",
    "cities = {t.shipping_city for t in transactions}\n",
    "countries = {t.country for t in transactions}\n",
    "\n",
    "print(\"Min price:\", min(prices))\n",
    "print(\"Mean price:\", round(sum(prices) / len(prices), 2))\n",
    "print(\"Max price:\", max(prices))\n",
    "\n",
    "print(\"Min quantity:\", min(quantities))\n",
    "print(\"Max quantity:\", max(quantities))\n",
    "\n",
    "print(\"Total revenue (calculated):\", round(sum(total_prices), 2))\n",
    "\n",
    "print(\"Unique cities:\", len(cities))\n",
    "print(\"Unique countries:\", len(countries))\n"
   ]
  },
  {
   "cell_type": "markdown",
   "id": "8a1858d6",
   "metadata": {},
   "source": [
    "## Step 6 - Spot the Grime\n"
   ]
  },
  {
   "cell_type": "code",
   "execution_count": 49,
   "id": "5fe36ea0",
   "metadata": {},
   "outputs": [
    {
     "data": {
      "application/vnd.microsoft.datawrangler.viewer.v0+json": {
       "columns": [
        {
         "name": "index",
         "rawType": "int64",
         "type": "integer"
        },
        {
         "name": "date",
         "rawType": "object",
         "type": "string"
        },
        {
         "name": "customer_id",
         "rawType": "object",
         "type": "string"
        },
        {
         "name": "product",
         "rawType": "object",
         "type": "string"
        },
        {
         "name": "price",
         "rawType": "float64",
         "type": "float"
        },
        {
         "name": "quantity",
         "rawType": "int64",
         "type": "integer"
        },
        {
         "name": "coupon_code",
         "rawType": "object",
         "type": "unknown"
        },
        {
         "name": "shipping_city",
         "rawType": "object",
         "type": "string"
        },
        {
         "name": "country",
         "rawType": "object",
         "type": "string"
        },
        {
         "name": "total_price",
         "rawType": "float64",
         "type": "float"
        }
       ],
       "ref": "db28b518-4366-4d46-a66f-1721a9eda3f3",
       "rows": [
        [
         "0",
         "2024-10-19",
         "8be304df-4697-4f40-9f57-5d849fe3947c",
         "Smartphone",
         "699.99",
         "3",
         null,
         "Calgary",
         "Canada",
         "2099.97"
        ],
        [
         "3",
         "2025-01-03",
         "bf0df2a4-d230-4113-8150-e0f6e8688588",
         "Smartphone",
         "699.99",
         "8",
         null,
         "Manchester",
         "UK",
         "5599.92"
        ],
        [
         "9",
         "2025-04-19",
         "798de1c5-1027-46fa-9c35-c3718a8810f1",
         "Smartphone",
         "699.99",
         "4",
         null,
         "London",
         "UK",
         "2799.96"
        ],
        [
         "19",
         "2024-08-07",
         "9ff80ba1-ebe6-483a-bd7f-888b0a38f6d7",
         "Smartphone",
         "699.99",
         "1",
         null,
         "Glasgow",
         "UK",
         "699.99"
        ],
        [
         "20",
         "2025-04-21",
         "4f239858-8316-4c9f-8718-62cc20396dc4",
         "Headphones",
         "149.99",
         "6",
         null,
         "Manchester",
         "UK",
         "899.94"
        ]
       ],
       "shape": {
        "columns": 9,
        "rows": 5
       }
      },
      "text/html": [
       "<div>\n",
       "<style scoped>\n",
       "    .dataframe tbody tr th:only-of-type {\n",
       "        vertical-align: middle;\n",
       "    }\n",
       "\n",
       "    .dataframe tbody tr th {\n",
       "        vertical-align: top;\n",
       "    }\n",
       "\n",
       "    .dataframe thead th {\n",
       "        text-align: right;\n",
       "    }\n",
       "</style>\n",
       "<table border=\"1\" class=\"dataframe\">\n",
       "  <thead>\n",
       "    <tr style=\"text-align: right;\">\n",
       "      <th></th>\n",
       "      <th>date</th>\n",
       "      <th>customer_id</th>\n",
       "      <th>product</th>\n",
       "      <th>price</th>\n",
       "      <th>quantity</th>\n",
       "      <th>coupon_code</th>\n",
       "      <th>shipping_city</th>\n",
       "      <th>country</th>\n",
       "      <th>total_price</th>\n",
       "    </tr>\n",
       "  </thead>\n",
       "  <tbody>\n",
       "    <tr>\n",
       "      <th>0</th>\n",
       "      <td>2024-10-19</td>\n",
       "      <td>8be304df-4697-4f40-9f57-5d849fe3947c</td>\n",
       "      <td>Smartphone</td>\n",
       "      <td>699.99</td>\n",
       "      <td>3</td>\n",
       "      <td>NaN</td>\n",
       "      <td>Calgary</td>\n",
       "      <td>Canada</td>\n",
       "      <td>2099.97</td>\n",
       "    </tr>\n",
       "    <tr>\n",
       "      <th>3</th>\n",
       "      <td>2025-01-03</td>\n",
       "      <td>bf0df2a4-d230-4113-8150-e0f6e8688588</td>\n",
       "      <td>Smartphone</td>\n",
       "      <td>699.99</td>\n",
       "      <td>8</td>\n",
       "      <td>NaN</td>\n",
       "      <td>Manchester</td>\n",
       "      <td>UK</td>\n",
       "      <td>5599.92</td>\n",
       "    </tr>\n",
       "    <tr>\n",
       "      <th>9</th>\n",
       "      <td>2025-04-19</td>\n",
       "      <td>798de1c5-1027-46fa-9c35-c3718a8810f1</td>\n",
       "      <td>Smartphone</td>\n",
       "      <td>699.99</td>\n",
       "      <td>4</td>\n",
       "      <td>NaN</td>\n",
       "      <td>London</td>\n",
       "      <td>UK</td>\n",
       "      <td>2799.96</td>\n",
       "    </tr>\n",
       "    <tr>\n",
       "      <th>19</th>\n",
       "      <td>2024-08-07</td>\n",
       "      <td>9ff80ba1-ebe6-483a-bd7f-888b0a38f6d7</td>\n",
       "      <td>Smartphone</td>\n",
       "      <td>699.99</td>\n",
       "      <td>1</td>\n",
       "      <td>NaN</td>\n",
       "      <td>Glasgow</td>\n",
       "      <td>UK</td>\n",
       "      <td>699.99</td>\n",
       "    </tr>\n",
       "    <tr>\n",
       "      <th>20</th>\n",
       "      <td>2025-04-21</td>\n",
       "      <td>4f239858-8316-4c9f-8718-62cc20396dc4</td>\n",
       "      <td>Headphones</td>\n",
       "      <td>149.99</td>\n",
       "      <td>6</td>\n",
       "      <td>NaN</td>\n",
       "      <td>Manchester</td>\n",
       "      <td>UK</td>\n",
       "      <td>899.94</td>\n",
       "    </tr>\n",
       "  </tbody>\n",
       "</table>\n",
       "</div>"
      ],
      "text/plain": [
       "          date                           customer_id     product   price  \\\n",
       "0   2024-10-19  8be304df-4697-4f40-9f57-5d849fe3947c  Smartphone  699.99   \n",
       "3   2025-01-03  bf0df2a4-d230-4113-8150-e0f6e8688588  Smartphone  699.99   \n",
       "9   2025-04-19  798de1c5-1027-46fa-9c35-c3718a8810f1  Smartphone  699.99   \n",
       "19  2024-08-07  9ff80ba1-ebe6-483a-bd7f-888b0a38f6d7  Smartphone  699.99   \n",
       "20  2025-04-21  4f239858-8316-4c9f-8718-62cc20396dc4  Headphones  149.99   \n",
       "\n",
       "    quantity coupon_code shipping_city country  total_price  \n",
       "0          3         NaN       Calgary  Canada      2099.97  \n",
       "3          8         NaN    Manchester      UK      5599.92  \n",
       "9          4         NaN        London      UK      2799.96  \n",
       "19         1         NaN       Glasgow      UK       699.99  \n",
       "20         6         NaN    Manchester      UK       899.94  "
      ]
     },
     "execution_count": 49,
     "metadata": {},
     "output_type": "execute_result"
    }
   ],
   "source": [
    "# Step 6 – Spot the Grime\n",
    "\n",
    "# Show rows with missing or clearly malformed data\n",
    "dirty_rows = df[df.isna().any(axis=1)]\n",
    "dirty_rows.head(5)"
   ]
  },
  {
   "cell_type": "markdown",
   "id": "11c6b25c",
   "metadata": {},
   "source": [
    "## Step 7 - Cleaning Rules"
   ]
  },
  {
   "cell_type": "code",
   "execution_count": 50,
   "id": "7f46960f",
   "metadata": {},
   "outputs": [
    {
     "name": "stdout",
     "output_type": "stream",
     "text": [
      "Before cleaning:\n",
      "  Countries with incorrect capitalization: 371\n",
      "  Shipping cities with incorrect capitalization: 0\n",
      "  Missing or blank coupon codes: 121\n",
      "\n",
      "After cleaning:\n",
      "  Countries still not titlecased: 0\n",
      "  Shipping cities still not titlecased: 0\n",
      "  Coupon codes now set to 'NO_CODE': 104\n"
     ]
    }
   ],
   "source": [
    "# Step 7 – Cleaning Rules\n",
    "\n",
    "# Helper function to check if a coupon code is missing or blank\n",
    "def is_empty_coupon(code):\n",
    "    return not isinstance(code, str) or code.strip() == \"\"\n",
    "\n",
    "# --- Check for issues before cleaning ---\n",
    "unclean_country_count = sum(t.country != t.country.title() for t in transactions)\n",
    "unclean_city_count = sum(t.shipping_city != t.shipping_city.title() for t in transactions)\n",
    "empty_coupon_count = sum(is_empty_coupon(t.coupon_code) for t in transactions)\n",
    "\n",
    "print(\"Before cleaning:\")\n",
    "print(\"  Countries with incorrect capitalization:\", unclean_country_count)\n",
    "print(\"  Shipping cities with incorrect capitalization:\", unclean_city_count)\n",
    "print(\"  Missing or blank coupon codes:\", empty_coupon_count)\n",
    "\n",
    "# --- Apply cleaning to each transaction ---\n",
    "for transaction in transactions:\n",
    "    transaction.clean()\n",
    "\n",
    "# --- Recheck after cleaning ---\n",
    "still_unclean_country_count = sum(t.country != t.country.title() for t in transactions)\n",
    "still_unclean_city_count = sum(t.shipping_city != t.shipping_city.title() for t in transactions)\n",
    "no_code_coupon_count = sum(t.coupon_code == \"NO_CODE\" for t in transactions)\n",
    "\n",
    "print(\"\\nAfter cleaning:\")\n",
    "print(\"  Countries still not titlecased:\", still_unclean_country_count)\n",
    "print(\"  Shipping cities still not titlecased:\", still_unclean_city_count)\n",
    "print(\"  Coupon codes now set to 'NO_CODE':\", no_code_coupon_count)\n"
   ]
  },
  {
   "cell_type": "markdown",
   "id": "23a601a5",
   "metadata": {},
   "source": [
    "## Step 8 - Transformations"
   ]
  },
  {
   "cell_type": "code",
   "execution_count": 51,
   "id": "10f1e1c3",
   "metadata": {},
   "outputs": [
    {
     "name": "stdout",
     "output_type": "stream",
     "text": [
      "nan ➝ 0% off ➝ Final total: $2099.97\n",
      "20OFF ➝ 20% off ➝ Final total: $399.98\n",
      "NO_CODE ➝ 0% off ➝ Final total: $5999.94\n",
      "nan ➝ 0% off ➝ Final total: $5599.92\n",
      "10OFF ➝ 10% off ➝ Final total: $1574.94\n"
     ]
    }
   ],
   "source": [
    "# Step 8 – Transformations\n",
    "\n",
    "# Define how discounts are derived from coupon codes\n",
    "def parse_discount(code: str) -> float:\n",
    "    if not isinstance(code, str):\n",
    "        return 0.0\n",
    "    code = code.strip().upper()\n",
    "    if code == \"10OFF\":\n",
    "        return 0.10\n",
    "    elif code == \"20OFF\":\n",
    "        return 0.20\n",
    "    elif code == \"FREESHIP\":\n",
    "        return 0.05  # e.g. 5% as shipping compensation\n",
    "    return 0.0\n",
    "\n",
    "# Apply transformation to each transaction\n",
    "for t in transactions:\n",
    "    t.discount = parse_discount(t.coupon_code)\n",
    "    t.total_after_discount = round(t.total() * (1 - t.discount), 2)\n",
    "\n",
    "# Show a few transformed examples\n",
    "for t in transactions[:5]:\n",
    "    print(f\"{t.coupon_code} ➝ {t.discount*100:.0f}% off ➝ Final total: ${t.total_after_discount}\")\n"
   ]
  },
  {
   "cell_type": "markdown",
   "id": "d81e3d8c",
   "metadata": {},
   "source": [
    "## Step 9 - Feature Engineering"
   ]
  },
  {
   "cell_type": "code",
   "execution_count": 52,
   "id": "666d2633",
   "metadata": {},
   "outputs": [
    {
     "name": "stdout",
     "output_type": "stream",
     "text": [
      "Sample transactions with new features:\n",
      "- Total: $2099.97 | High Value: True | Shipping Delay: 6 days | Days Since Purchase: 220\n",
      "- Total: $499.98 | High Value: False | Shipping Delay: 6 days | Days Since Purchase: 143\n",
      "- Total: $5999.94 | High Value: True | Shipping Delay: 5 days | Days Since Purchase: 282\n",
      "- Total: $5599.92 | High Value: True | Shipping Delay: 5 days | Days Since Purchase: 144\n",
      "- Total: $1749.93 | High Value: True | Shipping Delay: 6 days | Days Since Purchase: 13\n"
     ]
    }
   ],
   "source": [
    "from datetime import datetime\n",
    "\n",
    "# Step 9 – Feature Engineering\n",
    "\n",
    "# Today's date for calculating days since purchase\n",
    "today = pd.Timestamp(datetime.today().date())\n",
    "\n",
    "# Enrich each transaction with new features\n",
    "for transaction in transactions:\n",
    "    # High-value if total before discount > $1000\n",
    "    transaction.is_high_value = transaction.total() > 1000\n",
    "\n",
    "    # Deterministic shipping delay based on day of month (e.g., 2–6 days)\n",
    "    try:\n",
    "        order_date = pd.to_datetime(transaction.date)\n",
    "        transaction.shipping_delay = 2 + (order_date.day % 5)\n",
    "\n",
    "        # Days since purchase (difference from today)\n",
    "        transaction.days_since_purchase = (today - order_date).days\n",
    "    except Exception:\n",
    "        transaction.shipping_delay = None\n",
    "        transaction.days_since_purchase = None\n",
    "\n",
    "# Show a few enriched examples\n",
    "print(\"Sample transactions with new features:\")\n",
    "for tx in transactions[:5]:\n",
    "    print(f\"- Total: ${tx.total():.2f} | High Value: {tx.is_high_value} | \"\n",
    "          f\"Shipping Delay: {tx.shipping_delay} days | \"\n",
    "          f\"Days Since Purchase: {tx.days_since_purchase}\")\n"
   ]
  },
  {
   "cell_type": "markdown",
   "id": "8d212962",
   "metadata": {},
   "source": [
    "## Step 10 - Mini-Aggregation"
   ]
  },
  {
   "cell_type": "code",
   "execution_count": 53,
   "id": "425ad261",
   "metadata": {},
   "outputs": [
    {
     "name": "stdout",
     "output_type": "stream",
     "text": [
      "Manchester: $111755.44\n",
      "Chicago: $111740.35\n",
      "Los Angeles: $111262.08\n",
      "Houston: $105837.12\n",
      "Leeds: $93495.50\n"
     ]
    }
   ],
   "source": [
    "# Step 10 – Mini-Aggregation: Revenue by shipping_city\n",
    "from collections import defaultdict\n",
    "\n",
    "revenue_by_city = defaultdict(float)\n",
    "for t in transactions:\n",
    "    revenue_by_city[t.shipping_city] += t.total_after_discount\n",
    "\n",
    "# Sort and display top 5 cities\n",
    "sorted_revenue = sorted(revenue_by_city.items(), key=lambda x: x[1], reverse=True)\n",
    "for city, revenue in sorted_revenue[:5]:\n",
    "    print(f\"{city}: ${revenue:.2f}\")\n"
   ]
  },
  {
   "cell_type": "markdown",
   "id": "d95c9081",
   "metadata": {},
   "source": [
    "## Step 11 - Serialization Checkpoint"
   ]
  },
  {
   "cell_type": "code",
   "execution_count": null,
   "id": "fa96115a",
   "metadata": {},
   "outputs": [
    {
     "name": "stdout",
     "output_type": "stream",
     "text": [
      "Saved as cleaned_data.json and cleaned_data.parquet\n"
     ]
    }
   ],
   "source": [
    "\n",
    "\n",
    "# Convert Transaction objects to dictionaries for export\n",
    "def transaction_to_dict(t):\n",
    "    return {\n",
    "        \"date\": t.date,\n",
    "        \"customer_id\": t.customer_id,\n",
    "        \"product\": t.product,\n",
    "        \"price\": t.price,\n",
    "        \"quantity\": t.quantity,\n",
    "        \"coupon_code\": t.coupon_code,\n",
    "        \"shipping_city\": t.shipping_city,\n",
    "        \"country\": t.country,\n",
    "        \"total_price\": t.total_price,\n",
    "        \"discount\": t.discount,\n",
    "        \"total_after_discount\": t.total_after_discount,\n",
    "        \"is_high_value\": t.is_high_value,\n",
    "        \"shipping_delay\": t.shipping_delay,\n",
    "    }\n",
    "\n",
    "records = [transaction_to_dict(t) for t in transactions]\n",
    "\n",
    "\n",
    "##### I used https://www.datacamp.com/tutorial/apache-parquet to understand how to do this as i have never used parquet before\n",
    "\n",
    "# Save as JSON\n",
    "os.makedirs(\"exports\", exist_ok=True)\n",
    "with open(\"exports/cleaned_data.json\", \"w\") as f:\n",
    "    json.dump(records, f, indent=2)\n",
    "\n",
    "# Save as Parquet\n",
    "\n",
    "df_export = pd.DataFrame(records)\n",
    "df_export.to_parquet(\"exports/cleaned_data.parquet\", index=False)\n",
    "\n",
    "print(\"Saved as cleaned_data.json and cleaned_data.parquet\")\n"
   ]
  },
  {
   "cell_type": "markdown",
   "id": "574a7891",
   "metadata": {},
   "source": [
    "## Step 12 - Soft Interview Reflection"
   ]
  },
  {
   "cell_type": "markdown",
   "id": "47a49b81",
   "metadata": {},
   "source": [
    "Using OOP, each transaction was modeled as a class object with built-in methods for cleaning and calculations. This kept the code modular, clear, and consistent, making it easier to process and maintain the data pipeline. "
   ]
  },
  {
   "cell_type": "markdown",
   "id": "5973c547",
   "metadata": {},
   "source": [
    "## Data-Dictionary Section"
   ]
  },
  {
   "cell_type": "code",
   "execution_count": 55,
   "id": "50103ca8",
   "metadata": {},
   "outputs": [
    {
     "name": "stdout",
     "output_type": "stream",
     "text": [
      "| Field | Type | Description | Source |\n",
      "|-------|------|-------------|--------|\n",
      "| date | object | Order date of the transaction | Primary |\n",
      "| customer_id | object | Unique identifier for each customer or order | Primary |\n",
      "| product | object | Name of the product sold | Primary |\n",
      "| price | float64 | Unit price of the product | Primary |\n",
      "| quantity | int64 | Number of units sold in the transaction | Primary |\n",
      "| coupon_code | object | Discount or promotional code applied | Primary |\n",
      "| shipping_city | object | Destination city for the shipment | Primary |\n",
      "| country | object | Country of the shipping address | Primary |\n",
      "| total_price | float64 | Total price before discount | Primary |\n",
      "| product: Laptop | string | Portable computer with full OS | Secondary (Product Catalog) |\n",
      "| product: Smartphone | string | Touchscreen mobile phone | Secondary (Product Catalog) |\n",
      "| product: Headphones | string | Over-ear wireless audio device | Secondary (Product Catalog) |\n",
      "| product: Keyboard | string | Mechanical or membrane input device | Secondary (Product Catalog) |\n",
      "| product: Monitor | string | External display screen for computers | Secondary (Product Catalog) |\n"
     ]
    }
   ],
   "source": [
    "product_catalog = pd.read_csv(\"data/secondary_product_catalog.csv\")\n",
    "\n",
    "# Descriptions for main dataset fields\n",
    "field_info = {\n",
    "    \"date\": \"Order date of the transaction\",\n",
    "    \"customer_id\": \"Unique identifier for each customer or order\",\n",
    "    \"product\": \"Name of the product sold\",\n",
    "    \"price\": \"Unit price of the product\",\n",
    "    \"quantity\": \"Number of units sold in the transaction\",\n",
    "    \"coupon_code\": \"Discount or promotional code applied\",\n",
    "    \"shipping_city\": \"Destination city for the shipment\",\n",
    "    \"country\": \"Country of the shipping address\",\n",
    "    \"total_price\": \"Total price before discount\"\n",
    "}\n",
    "\n",
    "# Start table header\n",
    "markdown_output = [\n",
    "    \"| Field | Type | Description | Source |\",\n",
    "    \"|-------|------|-------------|--------|\"\n",
    "]\n",
    "\n",
    "# Add entries from primary CSV\n",
    "for column in df.columns:\n",
    "    col_type = str(df[column].dtype)\n",
    "    description = field_info.get(column, \"No description available\")\n",
    "    markdown_output.append(f\"| {column} | {col_type} | {description} | Primary |\")\n",
    "\n",
    "# Add product descriptions from secondary CSV\n",
    "for _, product in product_catalog.iterrows():\n",
    "    field_name = f\"product: {product['product']}\"\n",
    "    markdown_output.append(\n",
    "        f\"| {field_name} | string | {product['description']} | Secondary (Product Catalog) |\"\n",
    "    )\n",
    "\n",
    "# Join and print Markdown table\n",
    "final_markdown = \"\\n\".join(markdown_output)\n",
    "print(final_markdown)"
   ]
  }
 ],
 "metadata": {
  "kernelspec": {
   "display_name": "base",
   "language": "python",
   "name": "python3"
  },
  "language_info": {
   "codemirror_mode": {
    "name": "ipython",
    "version": 3
   },
   "file_extension": ".py",
   "mimetype": "text/x-python",
   "name": "python",
   "nbconvert_exporter": "python",
   "pygments_lexer": "ipython3",
   "version": "3.11.5"
  }
 },
 "nbformat": 4,
 "nbformat_minor": 5
}
