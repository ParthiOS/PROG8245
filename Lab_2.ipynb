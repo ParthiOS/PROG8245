{
 "cells": [
  {
   "cell_type": "code",
   "execution_count": 32,
   "id": "3c26a3a2",
   "metadata": {},
   "outputs": [
    {
     "data": {
      "application/vnd.microsoft.datawrangler.viewer.v0+json": {
       "columns": [
        {
         "name": "index",
         "rawType": "int64",
         "type": "integer"
        },
        {
         "name": "date",
         "rawType": "object",
         "type": "string"
        },
        {
         "name": "customer_id",
         "rawType": "object",
         "type": "string"
        },
        {
         "name": "product",
         "rawType": "object",
         "type": "string"
        },
        {
         "name": "price",
         "rawType": "float64",
         "type": "float"
        },
        {
         "name": "quantity",
         "rawType": "int64",
         "type": "integer"
        },
        {
         "name": "coupon_code",
         "rawType": "object",
         "type": "unknown"
        },
        {
         "name": "shipping_city",
         "rawType": "object",
         "type": "string"
        },
        {
         "name": "country",
         "rawType": "object",
         "type": "string"
        },
        {
         "name": "total_price",
         "rawType": "float64",
         "type": "float"
        }
       ],
       "ref": "41c8c1d3-38dd-440d-a7df-7f32d725b6f0",
       "rows": [
        [
         "0",
         "2024-10-19",
         "8be304df-4697-4f40-9f57-5d849fe3947c",
         "Smartphone",
         "699.99",
         "3",
         null,
         "Calgary",
         "Canada",
         "2099.97"
        ],
        [
         "1",
         "2025-01-04",
         "124f4ee9-b31b-4c15-a22c-21fd2a263098",
         "Monitor",
         "249.99",
         "2",
         "20OFF",
         "Ottawa",
         "Canada",
         "499.98"
        ],
        [
         "2",
         "2024-08-18",
         "fcaac143-fab7-494a-b400-cf3e2f6d6d07",
         "Laptop",
         "999.99",
         "6",
         "NO_CODE",
         "Leeds",
         "UK",
         "5999.94"
        ]
       ],
       "shape": {
        "columns": 9,
        "rows": 3
       }
      },
      "text/html": [
       "<div>\n",
       "<style scoped>\n",
       "    .dataframe tbody tr th:only-of-type {\n",
       "        vertical-align: middle;\n",
       "    }\n",
       "\n",
       "    .dataframe tbody tr th {\n",
       "        vertical-align: top;\n",
       "    }\n",
       "\n",
       "    .dataframe thead th {\n",
       "        text-align: right;\n",
       "    }\n",
       "</style>\n",
       "<table border=\"1\" class=\"dataframe\">\n",
       "  <thead>\n",
       "    <tr style=\"text-align: right;\">\n",
       "      <th></th>\n",
       "      <th>date</th>\n",
       "      <th>customer_id</th>\n",
       "      <th>product</th>\n",
       "      <th>price</th>\n",
       "      <th>quantity</th>\n",
       "      <th>coupon_code</th>\n",
       "      <th>shipping_city</th>\n",
       "      <th>country</th>\n",
       "      <th>total_price</th>\n",
       "    </tr>\n",
       "  </thead>\n",
       "  <tbody>\n",
       "    <tr>\n",
       "      <th>0</th>\n",
       "      <td>2024-10-19</td>\n",
       "      <td>8be304df-4697-4f40-9f57-5d849fe3947c</td>\n",
       "      <td>Smartphone</td>\n",
       "      <td>699.99</td>\n",
       "      <td>3</td>\n",
       "      <td>NaN</td>\n",
       "      <td>Calgary</td>\n",
       "      <td>Canada</td>\n",
       "      <td>2099.97</td>\n",
       "    </tr>\n",
       "    <tr>\n",
       "      <th>1</th>\n",
       "      <td>2025-01-04</td>\n",
       "      <td>124f4ee9-b31b-4c15-a22c-21fd2a263098</td>\n",
       "      <td>Monitor</td>\n",
       "      <td>249.99</td>\n",
       "      <td>2</td>\n",
       "      <td>20OFF</td>\n",
       "      <td>Ottawa</td>\n",
       "      <td>Canada</td>\n",
       "      <td>499.98</td>\n",
       "    </tr>\n",
       "    <tr>\n",
       "      <th>2</th>\n",
       "      <td>2024-08-18</td>\n",
       "      <td>fcaac143-fab7-494a-b400-cf3e2f6d6d07</td>\n",
       "      <td>Laptop</td>\n",
       "      <td>999.99</td>\n",
       "      <td>6</td>\n",
       "      <td>NO_CODE</td>\n",
       "      <td>Leeds</td>\n",
       "      <td>UK</td>\n",
       "      <td>5999.94</td>\n",
       "    </tr>\n",
       "  </tbody>\n",
       "</table>\n",
       "</div>"
      ],
      "text/plain": [
       "         date                           customer_id     product   price  \\\n",
       "0  2024-10-19  8be304df-4697-4f40-9f57-5d849fe3947c  Smartphone  699.99   \n",
       "1  2025-01-04  124f4ee9-b31b-4c15-a22c-21fd2a263098     Monitor  249.99   \n",
       "2  2024-08-18  fcaac143-fab7-494a-b400-cf3e2f6d6d07      Laptop  999.99   \n",
       "\n",
       "   quantity coupon_code shipping_city country  total_price  \n",
       "0         3         NaN       Calgary  Canada      2099.97  \n",
       "1         2       20OFF        Ottawa  Canada       499.98  \n",
       "2         6     NO_CODE         Leeds      UK      5999.94  "
      ]
     },
     "execution_count": 32,
     "metadata": {},
     "output_type": "execute_result"
    }
   ],
   "source": [
    "# Step 1 – Hello, Data!\n",
    "import pandas as pd\n",
    "\n",
    "# Load the raw CSV (replace with your actual file path)\n",
    "df = pd.read_csv(\"data/synthetic_ecommerce_data.csv\")\n",
    "\n",
    "# Display the first 3 rows\n",
    "df.head(3)"
   ]
  },
  {
   "cell_type": "markdown",
   "id": "c7273cd7",
   "metadata": {},
   "source": [
    "## Step 2 – Pick the Right Container\n",
    "\n",
    "For transaction records, a class is most appropriate because it allows us to encapsulate data and behavior (e.g., cleaning, calculating total revenue/profit) in a single unit. Namedtuples are immutable and lack methods; dictionaries are flexible but offer no structure or validation."
   ]
  },
  {
   "cell_type": "code",
   "execution_count": 33,
   "id": "538e77b1",
   "metadata": {},
   "outputs": [],
   "source": [
    "# Step 3 – Transaction Class and OO Data Structure\n",
    "class Transaction:\n",
    "    def __init__(self, date, customer_id, product, price, quantity,\n",
    "                 coupon_code, shipping_city, country, total_price):\n",
    "        self.date = date\n",
    "        self.customer_id = customer_id\n",
    "        self.product = product\n",
    "        self.price = float(price)\n",
    "        self.quantity = int(quantity)\n",
    "        self.coupon_code = coupon_code or \"NO_CODE\"\n",
    "        self.shipping_city = shipping_city\n",
    "        self.country = country\n",
    "        self.total_price = float(total_price)\n",
    "\n",
    "    def total(self):\n",
    "        return self.price * self.quantity\n",
    "\n",
    "    def clean(self):\n",
    "        if isinstance(self.product, str):\n",
    "            self.product = self.product.strip().title()\n",
    "        if isinstance(self.shipping_city, str):\n",
    "            self.shipping_city = self.shipping_city.strip().title()\n",
    "        if isinstance(self.country, str):\n",
    "            self.country = self.country.strip().title()\n",
    "        if not self.coupon_code:\n",
    "            self.coupon_code = \"NO_CODE\"\n",
    "\n"
   ]
  },
  {
   "cell_type": "code",
   "execution_count": 34,
   "id": "4097a201",
   "metadata": {},
   "outputs": [],
   "source": [
    "# Step 4 – Bulk Loader\n",
    "from typing import List\n",
    "\n",
    "def load_transactions(df: pd.DataFrame) -> List[Transaction]:\n",
    "    return [\n",
    "        Transaction(\n",
    "            row[\"date\"],\n",
    "            row[\"customer_id\"],\n",
    "            row[\"product\"],\n",
    "            row[\"price\"],\n",
    "            row[\"quantity\"],\n",
    "            row[\"coupon_code\"],\n",
    "            row[\"shipping_city\"],\n",
    "            row[\"country\"],\n",
    "            row[\"total_price\"]\n",
    "        )\n",
    "        for _, row in df.iterrows()\n",
    "    ]\n",
    "\n",
    "transactions = load_transactions(df)"
   ]
  },
  {
   "cell_type": "code",
   "execution_count": 35,
   "id": "84ceba77",
   "metadata": {},
   "outputs": [
    {
     "name": "stdout",
     "output_type": "stream",
     "text": [
      "Min price: 89.99\n",
      "Mean price: 442.83\n",
      "Max price: 999.99\n",
      "Min quantity: 1\n",
      "Max quantity: 10\n",
      "Total revenue (calculated): 1375038.97\n",
      "Unique cities: 15\n",
      "Unique countries: 3\n"
     ]
    }
   ],
   "source": [
    "# Step 5 – Quick Profiling\n",
    "\n",
    "# Basic stats on price and quantity\n",
    "prices = [t.price for t in transactions]\n",
    "quantities = [t.quantity for t in transactions]\n",
    "total_prices = [t.total_price for t in transactions]\n",
    "cities = {t.shipping_city for t in transactions}\n",
    "countries = {t.country for t in transactions}\n",
    "\n",
    "print(\"Min price:\", min(prices))\n",
    "print(\"Mean price:\", round(sum(prices) / len(prices), 2))\n",
    "print(\"Max price:\", max(prices))\n",
    "\n",
    "print(\"Min quantity:\", min(quantities))\n",
    "print(\"Max quantity:\", max(quantities))\n",
    "\n",
    "print(\"Total revenue (calculated):\", round(sum(total_prices), 2))\n",
    "\n",
    "print(\"Unique cities:\", len(cities))\n",
    "print(\"Unique countries:\", len(countries))\n"
   ]
  },
  {
   "cell_type": "code",
   "execution_count": 36,
   "id": "5fe36ea0",
   "metadata": {},
   "outputs": [
    {
     "data": {
      "application/vnd.microsoft.datawrangler.viewer.v0+json": {
       "columns": [
        {
         "name": "index",
         "rawType": "int64",
         "type": "integer"
        },
        {
         "name": "date",
         "rawType": "object",
         "type": "string"
        },
        {
         "name": "customer_id",
         "rawType": "object",
         "type": "string"
        },
        {
         "name": "product",
         "rawType": "object",
         "type": "string"
        },
        {
         "name": "price",
         "rawType": "float64",
         "type": "float"
        },
        {
         "name": "quantity",
         "rawType": "int64",
         "type": "integer"
        },
        {
         "name": "coupon_code",
         "rawType": "object",
         "type": "unknown"
        },
        {
         "name": "shipping_city",
         "rawType": "object",
         "type": "string"
        },
        {
         "name": "country",
         "rawType": "object",
         "type": "string"
        },
        {
         "name": "total_price",
         "rawType": "float64",
         "type": "float"
        }
       ],
       "ref": "de3d18aa-19a7-4425-a11a-f402f860093d",
       "rows": [
        [
         "0",
         "2024-10-19",
         "8be304df-4697-4f40-9f57-5d849fe3947c",
         "Smartphone",
         "699.99",
         "3",
         null,
         "Calgary",
         "Canada",
         "2099.97"
        ],
        [
         "3",
         "2025-01-03",
         "bf0df2a4-d230-4113-8150-e0f6e8688588",
         "Smartphone",
         "699.99",
         "8",
         null,
         "Manchester",
         "UK",
         "5599.92"
        ],
        [
         "9",
         "2025-04-19",
         "798de1c5-1027-46fa-9c35-c3718a8810f1",
         "Smartphone",
         "699.99",
         "4",
         null,
         "London",
         "UK",
         "2799.96"
        ],
        [
         "19",
         "2024-08-07",
         "9ff80ba1-ebe6-483a-bd7f-888b0a38f6d7",
         "Smartphone",
         "699.99",
         "1",
         null,
         "Glasgow",
         "UK",
         "699.99"
        ],
        [
         "20",
         "2025-04-21",
         "4f239858-8316-4c9f-8718-62cc20396dc4",
         "Headphones",
         "149.99",
         "6",
         null,
         "Manchester",
         "UK",
         "899.94"
        ]
       ],
       "shape": {
        "columns": 9,
        "rows": 5
       }
      },
      "text/html": [
       "<div>\n",
       "<style scoped>\n",
       "    .dataframe tbody tr th:only-of-type {\n",
       "        vertical-align: middle;\n",
       "    }\n",
       "\n",
       "    .dataframe tbody tr th {\n",
       "        vertical-align: top;\n",
       "    }\n",
       "\n",
       "    .dataframe thead th {\n",
       "        text-align: right;\n",
       "    }\n",
       "</style>\n",
       "<table border=\"1\" class=\"dataframe\">\n",
       "  <thead>\n",
       "    <tr style=\"text-align: right;\">\n",
       "      <th></th>\n",
       "      <th>date</th>\n",
       "      <th>customer_id</th>\n",
       "      <th>product</th>\n",
       "      <th>price</th>\n",
       "      <th>quantity</th>\n",
       "      <th>coupon_code</th>\n",
       "      <th>shipping_city</th>\n",
       "      <th>country</th>\n",
       "      <th>total_price</th>\n",
       "    </tr>\n",
       "  </thead>\n",
       "  <tbody>\n",
       "    <tr>\n",
       "      <th>0</th>\n",
       "      <td>2024-10-19</td>\n",
       "      <td>8be304df-4697-4f40-9f57-5d849fe3947c</td>\n",
       "      <td>Smartphone</td>\n",
       "      <td>699.99</td>\n",
       "      <td>3</td>\n",
       "      <td>NaN</td>\n",
       "      <td>Calgary</td>\n",
       "      <td>Canada</td>\n",
       "      <td>2099.97</td>\n",
       "    </tr>\n",
       "    <tr>\n",
       "      <th>3</th>\n",
       "      <td>2025-01-03</td>\n",
       "      <td>bf0df2a4-d230-4113-8150-e0f6e8688588</td>\n",
       "      <td>Smartphone</td>\n",
       "      <td>699.99</td>\n",
       "      <td>8</td>\n",
       "      <td>NaN</td>\n",
       "      <td>Manchester</td>\n",
       "      <td>UK</td>\n",
       "      <td>5599.92</td>\n",
       "    </tr>\n",
       "    <tr>\n",
       "      <th>9</th>\n",
       "      <td>2025-04-19</td>\n",
       "      <td>798de1c5-1027-46fa-9c35-c3718a8810f1</td>\n",
       "      <td>Smartphone</td>\n",
       "      <td>699.99</td>\n",
       "      <td>4</td>\n",
       "      <td>NaN</td>\n",
       "      <td>London</td>\n",
       "      <td>UK</td>\n",
       "      <td>2799.96</td>\n",
       "    </tr>\n",
       "    <tr>\n",
       "      <th>19</th>\n",
       "      <td>2024-08-07</td>\n",
       "      <td>9ff80ba1-ebe6-483a-bd7f-888b0a38f6d7</td>\n",
       "      <td>Smartphone</td>\n",
       "      <td>699.99</td>\n",
       "      <td>1</td>\n",
       "      <td>NaN</td>\n",
       "      <td>Glasgow</td>\n",
       "      <td>UK</td>\n",
       "      <td>699.99</td>\n",
       "    </tr>\n",
       "    <tr>\n",
       "      <th>20</th>\n",
       "      <td>2025-04-21</td>\n",
       "      <td>4f239858-8316-4c9f-8718-62cc20396dc4</td>\n",
       "      <td>Headphones</td>\n",
       "      <td>149.99</td>\n",
       "      <td>6</td>\n",
       "      <td>NaN</td>\n",
       "      <td>Manchester</td>\n",
       "      <td>UK</td>\n",
       "      <td>899.94</td>\n",
       "    </tr>\n",
       "  </tbody>\n",
       "</table>\n",
       "</div>"
      ],
      "text/plain": [
       "          date                           customer_id     product   price  \\\n",
       "0   2024-10-19  8be304df-4697-4f40-9f57-5d849fe3947c  Smartphone  699.99   \n",
       "3   2025-01-03  bf0df2a4-d230-4113-8150-e0f6e8688588  Smartphone  699.99   \n",
       "9   2025-04-19  798de1c5-1027-46fa-9c35-c3718a8810f1  Smartphone  699.99   \n",
       "19  2024-08-07  9ff80ba1-ebe6-483a-bd7f-888b0a38f6d7  Smartphone  699.99   \n",
       "20  2025-04-21  4f239858-8316-4c9f-8718-62cc20396dc4  Headphones  149.99   \n",
       "\n",
       "    quantity coupon_code shipping_city country  total_price  \n",
       "0          3         NaN       Calgary  Canada      2099.97  \n",
       "3          8         NaN    Manchester      UK      5599.92  \n",
       "9          4         NaN        London      UK      2799.96  \n",
       "19         1         NaN       Glasgow      UK       699.99  \n",
       "20         6         NaN    Manchester      UK       899.94  "
      ]
     },
     "execution_count": 36,
     "metadata": {},
     "output_type": "execute_result"
    }
   ],
   "source": [
    "# Step 6 – Spot the Grime\n",
    "# Show rows with missing or clearly malformed data\n",
    "dirty_rows = df[df.isna().any(axis=1)]\n",
    "dirty_rows.head(5)"
   ]
  },
  {
   "cell_type": "code",
   "execution_count": 37,
   "id": "7f46960f",
   "metadata": {},
   "outputs": [
    {
     "name": "stdout",
     "output_type": "stream",
     "text": [
      "Before cleaning:\n",
      "  Country fields not titlecased: 371\n",
      "  Shipping city fields not titlecased: 0\n",
      "  Empty coupon codes: 121\n",
      "\n",
      "After cleaning:\n",
      "  Country fields not titlecased: 0\n",
      "  Shipping city fields not titlecased: 0\n",
      "  Coupon codes equal to 'NO_CODE': 104\n"
     ]
    }
   ],
   "source": [
    "# Step 7 – Cleaning Rules\n",
    "\n",
    "def is_empty_coupon(code):\n",
    "    return not isinstance(code, str) or code.strip() == \"\"\n",
    "\n",
    "# Before cleaning\n",
    "print(\"Before cleaning:\")\n",
    "print(\"  Country fields not titlecased:\",\n",
    "      sum(t.country != t.country.title() for t in transactions))\n",
    "print(\"  Shipping city fields not titlecased:\",\n",
    "      sum(t.shipping_city != t.shipping_city.title() for t in transactions))\n",
    "print(\"  Empty coupon codes:\",\n",
    "      sum(is_empty_coupon(t.coupon_code) for t in transactions))\n",
    "\n",
    "# Apply cleaning\n",
    "for t in transactions:\n",
    "    t.clean()\n",
    "\n",
    "# After cleaning\n",
    "print(\"\\nAfter cleaning:\")\n",
    "print(\"  Country fields not titlecased:\",\n",
    "      sum(t.country != t.country.title() for t in transactions))\n",
    "print(\"  Shipping city fields not titlecased:\",\n",
    "      sum(t.shipping_city != t.shipping_city.title() for t in transactions))\n",
    "print(\"  Coupon codes equal to 'NO_CODE':\",\n",
    "      sum(t.coupon_code == \"NO_CODE\" for t in transactions))\n"
   ]
  },
  {
   "cell_type": "markdown",
   "id": "f4ab5ff7",
   "metadata": {},
   "source": []
  }
 ],
 "metadata": {
  "kernelspec": {
   "display_name": ".conda",
   "language": "python",
   "name": "python3"
  },
  "language_info": {
   "codemirror_mode": {
    "name": "ipython",
    "version": 3
   },
   "file_extension": ".py",
   "mimetype": "text/x-python",
   "name": "python",
   "nbconvert_exporter": "python",
   "pygments_lexer": "ipython3",
   "version": "3.11.11"
  }
 },
 "nbformat": 4,
 "nbformat_minor": 5
}
